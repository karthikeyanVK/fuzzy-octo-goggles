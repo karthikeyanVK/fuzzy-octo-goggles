{
 "cells": [
  {
   "cell_type": "code",
   "execution_count": 11,
   "id": "08889ea0",
   "metadata": {},
   "outputs": [
    {
     "name": "stderr",
     "output_type": "stream",
     "text": [
      "\u001b[2mUsing Python 3.12.9 environment at: C:\\Users\\KarthikeyanVK\\.conda\\envs\\byteai\u001b[0m\n",
      "\u001b[2mAudited \u001b[1m1 package\u001b[0m \u001b[2min 103ms\u001b[0m\u001b[0m\n"
     ]
    }
   ],
   "source": [
    "! uv pip install cryptography"
   ]
  },
  {
   "cell_type": "code",
   "execution_count": 12,
   "id": "ffe8a8c4",
   "metadata": {},
   "outputs": [],
   "source": [
    "import base64\n",
    "import os\n",
    "from cryptography.hazmat.primitives import hashes\n",
    "from cryptography.hazmat.primitives.kdf.pbkdf2 import PBKDF2HMAC\n",
    "\n",
    "def get_key_from_password(password: str, salt: bytes) -> bytes:\n",
    "    kdf = PBKDF2HMAC(\n",
    "        algorithm=hashes.SHA256(),\n",
    "        length=32,\n",
    "        salt=salt,\n",
    "        iterations=100_000,\n",
    "    )\n",
    "    return base64.urlsafe_b64encode(kdf.derive(password.encode()))\n"
   ]
  },
  {
   "cell_type": "code",
   "execution_count": 13,
   "id": "9a978e7f",
   "metadata": {},
   "outputs": [],
   "source": [
    "from cryptography.fernet import Fernet\n",
    "import json, os\n",
    "\n",
    "def encrypt_file(file_path, output_dir, fake_name, password):\n",
    "    with open(file_path, 'rb') as f:\n",
    "        file_data = f.read()\n",
    "\n",
    "    salt = os.urandom(16)\n",
    "    key = get_key_from_password(password, salt)\n",
    "    print(key)\n",
    "    fernet = Fernet(key)\n",
    "\n",
    "    metadata = {\n",
    "        \"original_filename\": os.path.basename(file_path)\n",
    "    }\n",
    "    encrypted_metadata = fernet.encrypt(json.dumps(metadata).encode())\n",
    "    encrypted_data = fernet.encrypt(file_data)\n",
    "\n",
    "    os.makedirs(output_dir, exist_ok=True)\n",
    "    full_output_path = os.path.join(output_dir, fake_name)\n",
    "\n",
    "    with open(full_output_path, 'wb') as out:\n",
    "        out.write(salt)  # 16 bytes\n",
    "        out.write(len(encrypted_metadata).to_bytes(4, 'big'))\n",
    "        out.write(encrypted_metadata)\n",
    "        out.write(encrypted_data)\n"
   ]
  },
  {
   "cell_type": "code",
   "execution_count": 14,
   "id": "01a13139",
   "metadata": {},
   "outputs": [],
   "source": [
    "def decrypt_file(encrypted_path, output_dir, password):\n",
    "    with open(encrypted_path, 'rb') as f:\n",
    "        salt = f.read(16)\n",
    "        key = get_key_from_password(password, salt)\n",
    "        fernet = Fernet(key)\n",
    "\n",
    "        meta_len = int.from_bytes(f.read(4), 'big')\n",
    "        encrypted_metadata = f.read(meta_len)\n",
    "        encrypted_data = f.read()\n",
    "\n",
    "    metadata = json.loads(fernet.decrypt(encrypted_metadata))\n",
    "    original_filename = metadata['original_filename']\n",
    "    decrypted_content = fernet.decrypt(encrypted_data)\n",
    "\n",
    "    os.makedirs(output_dir, exist_ok=True)\n",
    "    output_path = os.path.join(output_dir, original_filename)\n",
    "    with open(output_path, 'wb') as f:\n",
    "        f.write(decrypted_content)\n"
   ]
  },
  {
   "cell_type": "code",
   "execution_count": 15,
   "id": "26536664",
   "metadata": {},
   "outputs": [
    {
     "name": "stdout",
     "output_type": "stream",
     "text": [
      "b'W2-He2-yljyzrUVNxxAARpQj8r3BBhN_Bom17KWnhL4='\n"
     ]
    }
   ],
   "source": [
    "encrypt_file(\n",
    "    \"./prosat-slides-ideation.pdf\",\n",
    "    \"./encrypt/\",\n",
    "    \"masked-invoice.pdf\",  # this will be visible\n",
    "    \"password123\"\n",
    ")\n",
    "\n",
    "decrypt_file(\n",
    "    \"./encrypt/masked-invoice.pdf\",\n",
    "    \"./decrypted/\",\n",
    "    \"password123\"\n",
    ")\n"
   ]
  }
 ],
 "metadata": {
  "kernelspec": {
   "display_name": "Python 3",
   "language": "python",
   "name": "python3"
  },
  "language_info": {
   "codemirror_mode": {
    "name": "ipython",
    "version": 3
   },
   "file_extension": ".py",
   "mimetype": "text/x-python",
   "name": "python",
   "nbconvert_exporter": "python",
   "pygments_lexer": "ipython3",
   "version": "3.12.9"
  }
 },
 "nbformat": 4,
 "nbformat_minor": 5
}
